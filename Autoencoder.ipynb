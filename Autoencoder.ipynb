{
  "nbformat": 4,
  "nbformat_minor": 0,
  "metadata": {
    "colab": {
      "name": "Autoencoder.ipynb",
      "provenance": [],
      "collapsed_sections": [],
      "authorship_tag": "ABX9TyMx/6m3WSjLT2wzMubzoLLH",
      "include_colab_link": true
    },
    "kernelspec": {
      "name": "python3",
      "display_name": "Python 3"
    },
    "accelerator": "GPU"
  },
  "cells": [
    {
      "cell_type": "markdown",
      "metadata": {
        "id": "view-in-github",
        "colab_type": "text"
      },
      "source": [
        "<a href=\"https://colab.research.google.com/github/Vanbk/Tensorflow/blob/master/Autoencoder.ipynb\" target=\"_parent\"><img src=\"https://colab.research.google.com/assets/colab-badge.svg\" alt=\"Open In Colab\"/></a>"
      ]
    },
    {
      "cell_type": "code",
      "metadata": {
        "id": "LsHmwAZoSmC2",
        "colab_type": "code",
        "outputId": "504771c9-9fcf-4321-e661-d58ea65da07e",
        "colab": {
          "base_uri": "https://localhost:8080/",
          "height": 63
        }
      },
      "source": [
        "from __future__ import division, print_function, absolute_import\n",
        "\n",
        "import tensorflow as tf\n",
        "import numpy as np\n",
        "import matplotlib.pyplot as plt"
      ],
      "execution_count": 1,
      "outputs": [
        {
          "output_type": "display_data",
          "data": {
            "text/html": [
              "<p style=\"color: red;\">\n",
              "The default version of TensorFlow in Colab will soon switch to TensorFlow 2.x.<br>\n",
              "We recommend you <a href=\"https://www.tensorflow.org/guide/migrate\" target=\"_blank\">upgrade</a> now \n",
              "or ensure your notebook will continue to use TensorFlow 1.x via the <code>%tensorflow_version 1.x</code> magic:\n",
              "<a href=\"https://colab.research.google.com/notebooks/tensorflow_version.ipynb\" target=\"_blank\">more info</a>.</p>\n"
            ],
            "text/plain": [
              "<IPython.core.display.HTML object>"
            ]
          },
          "metadata": {
            "tags": []
          }
        }
      ]
    },
    {
      "cell_type": "code",
      "metadata": {
        "id": "Tn2wEk-1TZeT",
        "colab_type": "code",
        "outputId": "7ac2ea43-e751-4714-c3f8-c670f195977b",
        "colab": {
          "base_uri": "https://localhost:8080/",
          "height": 85
        }
      },
      "source": [
        "from tensorflow.examples.tutorials.mnist import input_data\n",
        "mnist = input_data.read_data_sets(\"/tmp/data\", one_hot = True)"
      ],
      "execution_count": 3,
      "outputs": [
        {
          "output_type": "stream",
          "text": [
            "Extracting /tmp/data/train-images-idx3-ubyte.gz\n",
            "Extracting /tmp/data/train-labels-idx1-ubyte.gz\n",
            "Extracting /tmp/data/t10k-images-idx3-ubyte.gz\n",
            "Extracting /tmp/data/t10k-labels-idx1-ubyte.gz\n"
          ],
          "name": "stdout"
        }
      ]
    },
    {
      "cell_type": "code",
      "metadata": {
        "id": "E0waSlS5UOXx",
        "colab_type": "code",
        "colab": {}
      },
      "source": [
        "# Traning parameter\n",
        "learning_rate = 0.01\n",
        "num_steps = 250000\n",
        "batch_size = 256\n",
        "\n",
        "display_step = 1000\n",
        "example_to_show = 10\n",
        "\n",
        "# Network Parameter\n",
        "\n",
        "num_hidden_1 = 256\n",
        "num_hidden_2 = 128\n",
        "num_input = 784\n",
        "\n",
        "# tf Graph input\n",
        "X = tf.placeholder(tf.float32, [None, num_input])\n",
        "\n",
        "weights = {\n",
        "    'encoder_h1': tf.Variable(tf.random_normal([num_input, num_hidden_1])),\n",
        "    'encoder_h2': tf.Variable(tf.random_normal([num_hidden_1, num_hidden_2])),\n",
        "    'decoder_h1': tf.Variable(tf.random_normal([num_hidden_2, num_hidden_1])),\n",
        "    'decoder_h2': tf.Variable(tf.random_normal([num_hidden_1, num_input])),\n",
        "}\n",
        "\n",
        "biases = {\n",
        "    'encoder_b1': tf.Variable(tf.random_normal([num_hidden_1])),\n",
        "    'encoder_b2': tf.Variable(tf.random_normal([num_hidden_2])),\n",
        "    'decoder_b1': tf.Variable(tf.random_normal([num_hidden_1])),\n",
        "    'decoder_b2': tf.Variable(tf.random_normal([num_input])),\n",
        "}\n"
      ],
      "execution_count": 0,
      "outputs": []
    },
    {
      "cell_type": "code",
      "metadata": {
        "id": "2HaJRpv9VlZ_",
        "colab_type": "code",
        "outputId": "a3bfe4a9-d127-4836-d123-becb7d3b834a",
        "colab": {
          "base_uri": "https://localhost:8080/",
          "height": 88
        }
      },
      "source": [
        "def encoder(x):\n",
        "  layer1 = tf.nn.sigmoid(tf.add(tf.matmul(x, weights['encoder_h1']), biases['decoder_b1']))\n",
        "  layer2 = tf.nn.sigmoid(tf.add(tf.matmul(layer1, weights['encoder_h2']), biases['encoder_b2']))\n",
        "  return layer2\n",
        "def decoder(vector):\n",
        "  layer1 = tf.nn.sigmoid(tf.add(tf.matmul(vector, weights['decoder_h1']), biases['decoder_b1']))\n",
        "  layer2 = tf.nn.sigmoid(tf.add(tf.matmul(layer1, weights['decoder_h2']), biases['decoder_b2']))\n",
        "  return layer2\n",
        "\n",
        "# construct model\n",
        "\n",
        "encoder_op = encoder(X)\n",
        "decoder_op = decoder(encoder_op)\n",
        "\n",
        "# prediction\n",
        "y_pred = decoder_op\n",
        "y_true = X # targeted labels are the input data\n",
        "\n",
        "#Loss function ans optimizer\n",
        "\n",
        "loss = tf.reduce_mean(tf.square(y_true - y_pred))\n",
        "optimizer = tf.train.RMSPropOptimizer(learning_rate).minimize(loss)\n",
        "\n",
        "# Initialize the variable \n",
        "\n",
        "init = tf.global_variables_initializer()"
      ],
      "execution_count": 5,
      "outputs": [
        {
          "output_type": "stream",
          "text": [
            "WARNING:tensorflow:From /tensorflow-1.15.0/python3.6/tensorflow_core/python/training/rmsprop.py:119: calling Ones.__init__ (from tensorflow.python.ops.init_ops) with dtype is deprecated and will be removed in a future version.\n",
            "Instructions for updating:\n",
            "Call initializer instance with the dtype argument instead of passing it to the constructor\n"
          ],
          "name": "stdout"
        }
      ]
    },
    {
      "cell_type": "code",
      "metadata": {
        "id": "-8CaQ-74d8gn",
        "colab_type": "code",
        "outputId": "5fd7cdab-2399-4385-d762-0a040e452462",
        "colab": {
          "base_uri": "https://localhost:8080/",
          "height": 1000
        }
      },
      "source": [
        "# creat a session\n",
        "sess = tf.Session()\n",
        "\n",
        "# run initializer\n",
        "sess.run(init)\n",
        "\n",
        "# Training \n",
        "train_loss_his = []\n",
        "val_loss_his = []\n",
        "for i in range(1, num_steps + 1):\n",
        "  # get training data by batch\n",
        "  batch_train_x, _ = mnist.train.next_batch(batch_size)\n",
        "  batch_val_x, _ = mnist.validation.next_batch(batch_size)\n",
        "  _, l = sess.run([optimizer, loss], feed_dict={X: batch_train_x})\n",
        "  val_loss = sess.run(loss, feed_dict={X: batch_val_x})\n",
        "\n",
        "  if i%display_step == 0 or i == 1:\n",
        "    train_loss_his.append(l)\n",
        "    val_loss_his.append(val_loss)\n",
        "\n",
        "    print (\"step : %i Minibatch Loss: %f Val_loss: %f\"%(i, l, val_loss))    "
      ],
      "execution_count": 6,
      "outputs": [
        {
          "output_type": "stream",
          "text": [
            "step : 1 Minibatch Loss: 0.453785 Val_loss: 0.453651\n",
            "step : 1000 Minibatch Loss: 0.137457 Val_loss: 0.140840\n",
            "step : 2000 Minibatch Loss: 0.122711 Val_loss: 0.122713\n",
            "step : 3000 Minibatch Loss: 0.115911 Val_loss: 0.115040\n",
            "step : 4000 Minibatch Loss: 0.105014 Val_loss: 0.104808\n",
            "step : 5000 Minibatch Loss: 0.097885 Val_loss: 0.098010\n",
            "step : 6000 Minibatch Loss: 0.094037 Val_loss: 0.093933\n",
            "step : 7000 Minibatch Loss: 0.091224 Val_loss: 0.090353\n",
            "step : 8000 Minibatch Loss: 0.088143 Val_loss: 0.088163\n",
            "step : 9000 Minibatch Loss: 0.085101 Val_loss: 0.085876\n",
            "step : 10000 Minibatch Loss: 0.084915 Val_loss: 0.085721\n",
            "step : 11000 Minibatch Loss: 0.081756 Val_loss: 0.080121\n",
            "step : 12000 Minibatch Loss: 0.081013 Val_loss: 0.080718\n",
            "step : 13000 Minibatch Loss: 0.074909 Val_loss: 0.074981\n",
            "step : 14000 Minibatch Loss: 0.073971 Val_loss: 0.073751\n",
            "step : 15000 Minibatch Loss: 0.073283 Val_loss: 0.073956\n",
            "step : 16000 Minibatch Loss: 0.070466 Val_loss: 0.070342\n",
            "step : 17000 Minibatch Loss: 0.066852 Val_loss: 0.068463\n",
            "step : 18000 Minibatch Loss: 0.064163 Val_loss: 0.065261\n",
            "step : 19000 Minibatch Loss: 0.061276 Val_loss: 0.063926\n",
            "step : 20000 Minibatch Loss: 0.063885 Val_loss: 0.060842\n",
            "step : 21000 Minibatch Loss: 0.062060 Val_loss: 0.062474\n",
            "step : 22000 Minibatch Loss: 0.060512 Val_loss: 0.060327\n",
            "step : 23000 Minibatch Loss: 0.059919 Val_loss: 0.061731\n",
            "step : 24000 Minibatch Loss: 0.058850 Val_loss: 0.062514\n",
            "step : 25000 Minibatch Loss: 0.057101 Val_loss: 0.058143\n",
            "step : 26000 Minibatch Loss: 0.056337 Val_loss: 0.057572\n",
            "step : 27000 Minibatch Loss: 0.054972 Val_loss: 0.054648\n",
            "step : 28000 Minibatch Loss: 0.054715 Val_loss: 0.054747\n",
            "step : 29000 Minibatch Loss: 0.055023 Val_loss: 0.054637\n",
            "step : 30000 Minibatch Loss: 0.051532 Val_loss: 0.053947\n",
            "step : 31000 Minibatch Loss: 0.051466 Val_loss: 0.053342\n",
            "step : 32000 Minibatch Loss: 0.050538 Val_loss: 0.050474\n",
            "step : 33000 Minibatch Loss: 0.049854 Val_loss: 0.050292\n",
            "step : 34000 Minibatch Loss: 0.047841 Val_loss: 0.048617\n",
            "step : 35000 Minibatch Loss: 0.045270 Val_loss: 0.045479\n",
            "step : 36000 Minibatch Loss: 0.044232 Val_loss: 0.044729\n",
            "step : 37000 Minibatch Loss: 0.044133 Val_loss: 0.044151\n",
            "step : 38000 Minibatch Loss: 0.043641 Val_loss: 0.042762\n",
            "step : 39000 Minibatch Loss: 0.042736 Val_loss: 0.045584\n",
            "step : 40000 Minibatch Loss: 0.041703 Val_loss: 0.042302\n",
            "step : 41000 Minibatch Loss: 0.040573 Val_loss: 0.041638\n",
            "step : 42000 Minibatch Loss: 0.037739 Val_loss: 0.038588\n",
            "step : 43000 Minibatch Loss: 0.040521 Val_loss: 0.040473\n",
            "step : 44000 Minibatch Loss: 0.039407 Val_loss: 0.039200\n",
            "step : 45000 Minibatch Loss: 0.037460 Val_loss: 0.038739\n",
            "step : 46000 Minibatch Loss: 0.038390 Val_loss: 0.039334\n",
            "step : 47000 Minibatch Loss: 0.037101 Val_loss: 0.037683\n",
            "step : 48000 Minibatch Loss: 0.037127 Val_loss: 0.037531\n",
            "step : 49000 Minibatch Loss: 0.035947 Val_loss: 0.036785\n",
            "step : 50000 Minibatch Loss: 0.037099 Val_loss: 0.036380\n",
            "step : 51000 Minibatch Loss: 0.034848 Val_loss: 0.035730\n",
            "step : 52000 Minibatch Loss: 0.035440 Val_loss: 0.036525\n",
            "step : 53000 Minibatch Loss: 0.037589 Val_loss: 0.036194\n",
            "step : 54000 Minibatch Loss: 0.036486 Val_loss: 0.036829\n",
            "step : 55000 Minibatch Loss: 0.034947 Val_loss: 0.035278\n",
            "step : 56000 Minibatch Loss: 0.035453 Val_loss: 0.036433\n",
            "step : 57000 Minibatch Loss: 0.034510 Val_loss: 0.035637\n",
            "step : 58000 Minibatch Loss: 0.034872 Val_loss: 0.035472\n",
            "step : 59000 Minibatch Loss: 0.034376 Val_loss: 0.035740\n",
            "step : 60000 Minibatch Loss: 0.032794 Val_loss: 0.033602\n",
            "step : 61000 Minibatch Loss: 0.033171 Val_loss: 0.033837\n",
            "step : 62000 Minibatch Loss: 0.032641 Val_loss: 0.032906\n",
            "step : 63000 Minibatch Loss: 0.032299 Val_loss: 0.031931\n",
            "step : 64000 Minibatch Loss: 0.029774 Val_loss: 0.030594\n",
            "step : 65000 Minibatch Loss: 0.030980 Val_loss: 0.031378\n",
            "step : 66000 Minibatch Loss: 0.030412 Val_loss: 0.030501\n",
            "step : 67000 Minibatch Loss: 0.031157 Val_loss: 0.032350\n",
            "step : 68000 Minibatch Loss: 0.028908 Val_loss: 0.029848\n",
            "step : 69000 Minibatch Loss: 0.028885 Val_loss: 0.030304\n",
            "step : 70000 Minibatch Loss: 0.030329 Val_loss: 0.030452\n",
            "step : 71000 Minibatch Loss: 0.029771 Val_loss: 0.030230\n",
            "step : 72000 Minibatch Loss: 0.029042 Val_loss: 0.031050\n",
            "step : 73000 Minibatch Loss: 0.028073 Val_loss: 0.029675\n",
            "step : 74000 Minibatch Loss: 0.028666 Val_loss: 0.028648\n",
            "step : 75000 Minibatch Loss: 0.029710 Val_loss: 0.030578\n",
            "step : 76000 Minibatch Loss: 0.028063 Val_loss: 0.028912\n",
            "step : 77000 Minibatch Loss: 0.027503 Val_loss: 0.029101\n",
            "step : 78000 Minibatch Loss: 0.027182 Val_loss: 0.027045\n",
            "step : 79000 Minibatch Loss: 0.026523 Val_loss: 0.027752\n",
            "step : 80000 Minibatch Loss: 0.026383 Val_loss: 0.027421\n",
            "step : 81000 Minibatch Loss: 0.025345 Val_loss: 0.026218\n",
            "step : 82000 Minibatch Loss: 0.025252 Val_loss: 0.025827\n",
            "step : 83000 Minibatch Loss: 0.024729 Val_loss: 0.025395\n",
            "step : 84000 Minibatch Loss: 0.025666 Val_loss: 0.026162\n",
            "step : 85000 Minibatch Loss: 0.024922 Val_loss: 0.025451\n",
            "step : 86000 Minibatch Loss: 0.023449 Val_loss: 0.023693\n",
            "step : 87000 Minibatch Loss: 0.023483 Val_loss: 0.024354\n",
            "step : 88000 Minibatch Loss: 0.023870 Val_loss: 0.024430\n",
            "step : 89000 Minibatch Loss: 0.023890 Val_loss: 0.024523\n",
            "step : 90000 Minibatch Loss: 0.023335 Val_loss: 0.026126\n",
            "step : 91000 Minibatch Loss: 0.023373 Val_loss: 0.023959\n",
            "step : 92000 Minibatch Loss: 0.023658 Val_loss: 0.024938\n",
            "step : 93000 Minibatch Loss: 0.022950 Val_loss: 0.023993\n",
            "step : 94000 Minibatch Loss: 0.023871 Val_loss: 0.024521\n",
            "step : 95000 Minibatch Loss: 0.023521 Val_loss: 0.023749\n",
            "step : 96000 Minibatch Loss: 0.023748 Val_loss: 0.023859\n",
            "step : 97000 Minibatch Loss: 0.023564 Val_loss: 0.024245\n",
            "step : 98000 Minibatch Loss: 0.021281 Val_loss: 0.023582\n",
            "step : 99000 Minibatch Loss: 0.020279 Val_loss: 0.021948\n",
            "step : 100000 Minibatch Loss: 0.019351 Val_loss: 0.020964\n",
            "step : 101000 Minibatch Loss: 0.020977 Val_loss: 0.020659\n",
            "step : 102000 Minibatch Loss: 0.021017 Val_loss: 0.021098\n",
            "step : 103000 Minibatch Loss: 0.019697 Val_loss: 0.020538\n",
            "step : 104000 Minibatch Loss: 0.020250 Val_loss: 0.020207\n",
            "step : 105000 Minibatch Loss: 0.019906 Val_loss: 0.021104\n",
            "step : 106000 Minibatch Loss: 0.019142 Val_loss: 0.020803\n",
            "step : 107000 Minibatch Loss: 0.019867 Val_loss: 0.020276\n",
            "step : 108000 Minibatch Loss: 0.019292 Val_loss: 0.019750\n",
            "step : 109000 Minibatch Loss: 0.018978 Val_loss: 0.020508\n",
            "step : 110000 Minibatch Loss: 0.020300 Val_loss: 0.021191\n",
            "step : 111000 Minibatch Loss: 0.018352 Val_loss: 0.019755\n",
            "step : 112000 Minibatch Loss: 0.017721 Val_loss: 0.017798\n",
            "step : 113000 Minibatch Loss: 0.019105 Val_loss: 0.018806\n",
            "step : 114000 Minibatch Loss: 0.019473 Val_loss: 0.018650\n",
            "step : 115000 Minibatch Loss: 0.017208 Val_loss: 0.017492\n",
            "step : 116000 Minibatch Loss: 0.017738 Val_loss: 0.018790\n",
            "step : 117000 Minibatch Loss: 0.016957 Val_loss: 0.017758\n",
            "step : 118000 Minibatch Loss: 0.016303 Val_loss: 0.017437\n",
            "step : 119000 Minibatch Loss: 0.016064 Val_loss: 0.016928\n",
            "step : 120000 Minibatch Loss: 0.017195 Val_loss: 0.017836\n",
            "step : 121000 Minibatch Loss: 0.017003 Val_loss: 0.017883\n",
            "step : 122000 Minibatch Loss: 0.015884 Val_loss: 0.017632\n",
            "step : 123000 Minibatch Loss: 0.015369 Val_loss: 0.016924\n",
            "step : 124000 Minibatch Loss: 0.015368 Val_loss: 0.016711\n",
            "step : 125000 Minibatch Loss: 0.015912 Val_loss: 0.016620\n",
            "step : 126000 Minibatch Loss: 0.015581 Val_loss: 0.016317\n",
            "step : 127000 Minibatch Loss: 0.016738 Val_loss: 0.017261\n",
            "step : 128000 Minibatch Loss: 0.015841 Val_loss: 0.016734\n",
            "step : 129000 Minibatch Loss: 0.015327 Val_loss: 0.016774\n",
            "step : 130000 Minibatch Loss: 0.014650 Val_loss: 0.015742\n",
            "step : 131000 Minibatch Loss: 0.014747 Val_loss: 0.015507\n",
            "step : 132000 Minibatch Loss: 0.016175 Val_loss: 0.015695\n",
            "step : 133000 Minibatch Loss: 0.016454 Val_loss: 0.017079\n",
            "step : 134000 Minibatch Loss: 0.015375 Val_loss: 0.016129\n",
            "step : 135000 Minibatch Loss: 0.015883 Val_loss: 0.016666\n",
            "step : 136000 Minibatch Loss: 0.015389 Val_loss: 0.016008\n",
            "step : 137000 Minibatch Loss: 0.015470 Val_loss: 0.017160\n",
            "step : 138000 Minibatch Loss: 0.015722 Val_loss: 0.017035\n",
            "step : 139000 Minibatch Loss: 0.015028 Val_loss: 0.016390\n",
            "step : 140000 Minibatch Loss: 0.014635 Val_loss: 0.015772\n",
            "step : 141000 Minibatch Loss: 0.014835 Val_loss: 0.015581\n",
            "step : 142000 Minibatch Loss: 0.016863 Val_loss: 0.017054\n",
            "step : 143000 Minibatch Loss: 0.014705 Val_loss: 0.015709\n",
            "step : 144000 Minibatch Loss: 0.014336 Val_loss: 0.015711\n",
            "step : 145000 Minibatch Loss: 0.014675 Val_loss: 0.015291\n",
            "step : 146000 Minibatch Loss: 0.015149 Val_loss: 0.016002\n",
            "step : 147000 Minibatch Loss: 0.014666 Val_loss: 0.015765\n",
            "step : 148000 Minibatch Loss: 0.015325 Val_loss: 0.015638\n",
            "step : 149000 Minibatch Loss: 0.014494 Val_loss: 0.015493\n",
            "step : 150000 Minibatch Loss: 0.016210 Val_loss: 0.017904\n",
            "step : 151000 Minibatch Loss: 0.015616 Val_loss: 0.014755\n",
            "step : 152000 Minibatch Loss: 0.014590 Val_loss: 0.015434\n",
            "step : 153000 Minibatch Loss: 0.014973 Val_loss: 0.014898\n",
            "step : 154000 Minibatch Loss: 0.015469 Val_loss: 0.015158\n",
            "step : 155000 Minibatch Loss: 0.014871 Val_loss: 0.016588\n",
            "step : 156000 Minibatch Loss: 0.013894 Val_loss: 0.015705\n",
            "step : 157000 Minibatch Loss: 0.014654 Val_loss: 0.015265\n",
            "step : 158000 Minibatch Loss: 0.015549 Val_loss: 0.016000\n",
            "step : 159000 Minibatch Loss: 0.015317 Val_loss: 0.015992\n",
            "step : 160000 Minibatch Loss: 0.014170 Val_loss: 0.015397\n",
            "step : 161000 Minibatch Loss: 0.013526 Val_loss: 0.013954\n",
            "step : 162000 Minibatch Loss: 0.014401 Val_loss: 0.014880\n",
            "step : 163000 Minibatch Loss: 0.015022 Val_loss: 0.015465\n",
            "step : 164000 Minibatch Loss: 0.014344 Val_loss: 0.015181\n",
            "step : 165000 Minibatch Loss: 0.013718 Val_loss: 0.015479\n",
            "step : 166000 Minibatch Loss: 0.013821 Val_loss: 0.014547\n",
            "step : 167000 Minibatch Loss: 0.014962 Val_loss: 0.015493\n",
            "step : 168000 Minibatch Loss: 0.014485 Val_loss: 0.014613\n",
            "step : 169000 Minibatch Loss: 0.014557 Val_loss: 0.015591\n",
            "step : 170000 Minibatch Loss: 0.014469 Val_loss: 0.015708\n",
            "step : 171000 Minibatch Loss: 0.013806 Val_loss: 0.015130\n",
            "step : 172000 Minibatch Loss: 0.014707 Val_loss: 0.015042\n",
            "step : 173000 Minibatch Loss: 0.013569 Val_loss: 0.014912\n",
            "step : 174000 Minibatch Loss: 0.013754 Val_loss: 0.014564\n",
            "step : 175000 Minibatch Loss: 0.013471 Val_loss: 0.014893\n",
            "step : 176000 Minibatch Loss: 0.013800 Val_loss: 0.014571\n",
            "step : 177000 Minibatch Loss: 0.013807 Val_loss: 0.015557\n",
            "step : 178000 Minibatch Loss: 0.013749 Val_loss: 0.014922\n",
            "step : 179000 Minibatch Loss: 0.014102 Val_loss: 0.014650\n",
            "step : 180000 Minibatch Loss: 0.014183 Val_loss: 0.014740\n",
            "step : 181000 Minibatch Loss: 0.014185 Val_loss: 0.014150\n",
            "step : 182000 Minibatch Loss: 0.013656 Val_loss: 0.013582\n",
            "step : 183000 Minibatch Loss: 0.014666 Val_loss: 0.014851\n",
            "step : 184000 Minibatch Loss: 0.013661 Val_loss: 0.014997\n",
            "step : 185000 Minibatch Loss: 0.013512 Val_loss: 0.014873\n",
            "step : 186000 Minibatch Loss: 0.013718 Val_loss: 0.014151\n",
            "step : 187000 Minibatch Loss: 0.013260 Val_loss: 0.013950\n",
            "step : 188000 Minibatch Loss: 0.013142 Val_loss: 0.013768\n",
            "step : 189000 Minibatch Loss: 0.012526 Val_loss: 0.013419\n",
            "step : 190000 Minibatch Loss: 0.012196 Val_loss: 0.013541\n",
            "step : 191000 Minibatch Loss: 0.012107 Val_loss: 0.013061\n",
            "step : 192000 Minibatch Loss: 0.012634 Val_loss: 0.013238\n",
            "step : 193000 Minibatch Loss: 0.012236 Val_loss: 0.012809\n",
            "step : 194000 Minibatch Loss: 0.012628 Val_loss: 0.014154\n",
            "step : 195000 Minibatch Loss: 0.011318 Val_loss: 0.012291\n",
            "step : 196000 Minibatch Loss: 0.012016 Val_loss: 0.013106\n",
            "step : 197000 Minibatch Loss: 0.011787 Val_loss: 0.012871\n",
            "step : 198000 Minibatch Loss: 0.012141 Val_loss: 0.013484\n",
            "step : 199000 Minibatch Loss: 0.013571 Val_loss: 0.013409\n",
            "step : 200000 Minibatch Loss: 0.012279 Val_loss: 0.013346\n",
            "step : 201000 Minibatch Loss: 0.011722 Val_loss: 0.012450\n",
            "step : 202000 Minibatch Loss: 0.011415 Val_loss: 0.012250\n",
            "step : 203000 Minibatch Loss: 0.011101 Val_loss: 0.012441\n",
            "step : 204000 Minibatch Loss: 0.011279 Val_loss: 0.012424\n",
            "step : 205000 Minibatch Loss: 0.011010 Val_loss: 0.011548\n",
            "step : 206000 Minibatch Loss: 0.012337 Val_loss: 0.012926\n",
            "step : 207000 Minibatch Loss: 0.011580 Val_loss: 0.012025\n",
            "step : 208000 Minibatch Loss: 0.011874 Val_loss: 0.012496\n",
            "step : 209000 Minibatch Loss: 0.011102 Val_loss: 0.010958\n",
            "step : 210000 Minibatch Loss: 0.009634 Val_loss: 0.010057\n",
            "step : 211000 Minibatch Loss: 0.011477 Val_loss: 0.011648\n",
            "step : 212000 Minibatch Loss: 0.009737 Val_loss: 0.011247\n",
            "step : 213000 Minibatch Loss: 0.010231 Val_loss: 0.011549\n",
            "step : 214000 Minibatch Loss: 0.010006 Val_loss: 0.010684\n",
            "step : 215000 Minibatch Loss: 0.010170 Val_loss: 0.011243\n",
            "step : 216000 Minibatch Loss: 0.010233 Val_loss: 0.010929\n",
            "step : 217000 Minibatch Loss: 0.009371 Val_loss: 0.010416\n",
            "step : 218000 Minibatch Loss: 0.009867 Val_loss: 0.010546\n",
            "step : 219000 Minibatch Loss: 0.009658 Val_loss: 0.010067\n",
            "step : 220000 Minibatch Loss: 0.009970 Val_loss: 0.011578\n",
            "step : 221000 Minibatch Loss: 0.009818 Val_loss: 0.010594\n",
            "step : 222000 Minibatch Loss: 0.009229 Val_loss: 0.010212\n",
            "step : 223000 Minibatch Loss: 0.009707 Val_loss: 0.010595\n",
            "step : 224000 Minibatch Loss: 0.010028 Val_loss: 0.010661\n",
            "step : 225000 Minibatch Loss: 0.010263 Val_loss: 0.011197\n",
            "step : 226000 Minibatch Loss: 0.009463 Val_loss: 0.010196\n",
            "step : 227000 Minibatch Loss: 0.009683 Val_loss: 0.009868\n",
            "step : 228000 Minibatch Loss: 0.009101 Val_loss: 0.010326\n",
            "step : 229000 Minibatch Loss: 0.009474 Val_loss: 0.010702\n",
            "step : 230000 Minibatch Loss: 0.009707 Val_loss: 0.011069\n",
            "step : 231000 Minibatch Loss: 0.010588 Val_loss: 0.011111\n",
            "step : 232000 Minibatch Loss: 0.009572 Val_loss: 0.010239\n",
            "step : 233000 Minibatch Loss: 0.010373 Val_loss: 0.011173\n",
            "step : 234000 Minibatch Loss: 0.009642 Val_loss: 0.010853\n",
            "step : 235000 Minibatch Loss: 0.009278 Val_loss: 0.009686\n",
            "step : 236000 Minibatch Loss: 0.010321 Val_loss: 0.010680\n",
            "step : 237000 Minibatch Loss: 0.009542 Val_loss: 0.009522\n",
            "step : 238000 Minibatch Loss: 0.010601 Val_loss: 0.011318\n",
            "step : 239000 Minibatch Loss: 0.010367 Val_loss: 0.011584\n",
            "step : 240000 Minibatch Loss: 0.009071 Val_loss: 0.010544\n",
            "step : 241000 Minibatch Loss: 0.009967 Val_loss: 0.010452\n",
            "step : 242000 Minibatch Loss: 0.009404 Val_loss: 0.009777\n",
            "step : 243000 Minibatch Loss: 0.010002 Val_loss: 0.010645\n",
            "step : 244000 Minibatch Loss: 0.009606 Val_loss: 0.010817\n",
            "step : 245000 Minibatch Loss: 0.008725 Val_loss: 0.009609\n",
            "step : 246000 Minibatch Loss: 0.009705 Val_loss: 0.010290\n",
            "step : 247000 Minibatch Loss: 0.009953 Val_loss: 0.010677\n",
            "step : 248000 Minibatch Loss: 0.008927 Val_loss: 0.010434\n",
            "step : 249000 Minibatch Loss: 0.009307 Val_loss: 0.009976\n",
            "step : 250000 Minibatch Loss: 0.008998 Val_loss: 0.008728\n"
          ],
          "name": "stdout"
        }
      ]
    },
    {
      "cell_type": "code",
      "metadata": {
        "id": "262-oi1Fupvb",
        "colab_type": "code",
        "outputId": "f7c55016-c88a-4088-fcc3-3079835dfad9",
        "colab": {
          "base_uri": "https://localhost:8080/",
          "height": 265
        }
      },
      "source": [
        "plt.plot(range(len(train_loss_his)), train_loss_his, label = \"train_loss\")\n",
        "plt.plot(range(len(val_loss_his)), val_loss_his, label = \"val_loss\")\n",
        "plt.axis([0, len(train_loss_his), 0, max(np.max(train_loss_his), np.max(val_loss_his))])\n",
        "plt.legend()\n",
        "plt.show()\n"
      ],
      "execution_count": 7,
      "outputs": [
        {
          "output_type": "display_data",
          "data": {
            "image/png": "[encoded data removed]",
            "text/plain": [
              "<Figure size 432x288 with 1 Axes>"
            ]
          },
          "metadata": {
            "tags": []
          }
        }
      ]
    },
    {
      "cell_type": "code",
      "metadata": {
        "id": "CLKa87KwhpFu",
        "colab_type": "code",
        "outputId": "3cddb418-1377-4959-e058-3804c901b894",
        "colab": {
          "base_uri": "https://localhost:8080/",
          "height": 553
        }
      },
      "source": [
        "# Testing\n",
        "\n",
        "n = 4\n",
        "\n",
        "canvas_orig = np.empty((28*n, 28*n))\n",
        "canvas_recon = np.empty((28*n, 28*n))\n",
        "\n",
        "for i in range(n):\n",
        "  batch_test_x, _ = mnist.test.next_batch(n)\n",
        "  g = sess.run(decoder_op, feed_dict={X: batch_test_x})\n",
        "\n",
        "  # Display original images\n",
        "\n",
        "  for j in range(n):\n",
        "    # Draw generated digits\n",
        "    canvas_orig[i*28 : (i+1)*28, j*28:(j+1)*28] = batch_test_x[j].reshape([28, 28])\n",
        "\n",
        "  # Display reconstructed images\n",
        "\n",
        "  for j in range(n):\n",
        "    # Draw generated digits\n",
        "    canvas_recon[i*28 : (i+1)*28, j*28:(j+1)*28] = g[j].reshape([28, 28])\n",
        "\n",
        "print (\"Original Images\")\n",
        "plt.figure(figsize = (n, n))\n",
        "plt.imshow(canvas_orig, cmap='gray')\n",
        "plt.show()\n",
        "\n",
        "print (\"Reconstrcuted Images\")\n",
        "plt.figure(figsize = (n, n))\n",
        "plt.imshow(canvas_recon, cmap='gray')\n",
        "plt.show()"
      ],
      "execution_count": 0,
      "outputs": [
        {
          "output_type": "stream",
          "text": [
            "Original Images\n"
          ],
          "name": "stdout"
        },
        {
          "output_type": "display_data",
          "data": {
            "image/png": "[encoded data removed]",
            "text/plain": [
              "<Figure size 288x288 with 1 Axes>"
            ]
          },
          "metadata": {
            "tags": []
          }
        },
        {
          "output_type": "stream",
          "text": [
            "Reconstrcuted Images\n"
          ],
          "name": "stdout"
        },
        {
          "output_type": "display_data",
          "data": {
            "image/png": "[encoded data removed]",
            "text/plain": [
              "<Figure size 288x288 with 1 Axes>"
            ]
          },
          "metadata": {
            "tags": []
          }
        }
      ]
    },
    {
      "cell_type": "code",
      "metadata": {
        "id": "37_ygV0jmPax",
        "colab_type": "code",
        "colab": {}
      },
      "source": [
        ""
      ],
      "execution_count": 0,
      "outputs": []
    }
  ]
}