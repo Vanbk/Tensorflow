{
  "nbformat": 4,
  "nbformat_minor": 0,
  "metadata": {
    "colab": {
      "name": "Neural_network.ipynb",
      "provenance": [],
      "collapsed_sections": [],
      "authorship_tag": "ABX9TyNgY7/53BrIcGUpNv2wcdTg",
      "include_colab_link": true
    },
    "kernelspec": {
      "name": "python3",
      "display_name": "Python 3"
    },
    "accelerator": "GPU"
  },
  "cells": [
    {
      "cell_type": "markdown",
      "metadata": {
        "id": "view-in-github",
        "colab_type": "text"
      },
      "source": [
        "<a href=\"https://colab.research.google.com/github/Vanbk/Tensorflow/blob/master/Neural_network.ipynb\" target=\"_parent\"><img src=\"https://colab.research.google.com/assets/colab-badge.svg\" alt=\"Open In Colab\"/></a>"
      ]
    },
    {
      "cell_type": "code",
      "metadata": {
        "id": "JMYCIhUkWPPG",
        "colab_type": "code",
        "outputId": "68b0101b-7b9c-4a53-a755-5de38ee540a3",
        "colab": {
          "base_uri": "https://localhost:8080/",
          "height": 593
        }
      },
      "source": [
        "from __future__ import print_function\n",
        "\n",
        "# Import MNIST data\n",
        "from tensorflow.examples.tutorials.mnist import input_data\n",
        "mnist = input_data.read_data_sets(\"/tmp/data/\", one_hot=True)\n",
        "\n",
        "import tensorflow as tf\n",
        "tf.reset_default_graph()"
      ],
      "execution_count": 0,
      "outputs": [
        {
          "output_type": "display_data",
          "data": {
            "text/html": [
              "<p style=\"color: red;\">\n",
              "The default version of TensorFlow in Colab will soon switch to TensorFlow 2.x.<br>\n",
              "We recommend you <a href=\"https://www.tensorflow.org/guide/migrate\" target=\"_blank\">upgrade</a> now \n",
              "or ensure your notebook will continue to use TensorFlow 1.x via the <code>%tensorflow_version 1.x</code> magic:\n",
              "<a href=\"https://colab.research.google.com/notebooks/tensorflow_version.ipynb\" target=\"_blank\">more info</a>.</p>\n"
            ],
            "text/plain": [
              "<IPython.core.display.HTML object>"
            ]
          },
          "metadata": {
            "tags": []
          }
        },
        {
          "output_type": "stream",
          "text": [
            "WARNING:tensorflow:From <ipython-input-4-b167a77fa0c6>:5: read_data_sets (from tensorflow.contrib.learn.python.learn.datasets.mnist) is deprecated and will be removed in a future version.\n",
            "Instructions for updating:\n",
            "Please use alternatives such as official/mnist/dataset.py from tensorflow/models.\n",
            "WARNING:tensorflow:From /usr/local/lib/python3.6/dist-packages/tensorflow_core/contrib/learn/python/learn/datasets/mnist.py:260: maybe_download (from tensorflow.contrib.learn.python.learn.datasets.base) is deprecated and will be removed in a future version.\n",
            "Instructions for updating:\n",
            "Please write your own downloading logic.\n",
            "WARNING:tensorflow:From /usr/local/lib/python3.6/dist-packages/tensorflow_core/contrib/learn/python/learn/datasets/base.py:252: _internal_retry.<locals>.wrap.<locals>.wrapped_fn (from tensorflow.contrib.learn.python.learn.datasets.base) is deprecated and will be removed in a future version.\n",
            "Instructions for updating:\n",
            "Please use urllib or similar directly.\n",
            "Successfully downloaded train-images-idx3-ubyte.gz 9912422 bytes.\n",
            "WARNING:tensorflow:From /usr/local/lib/python3.6/dist-packages/tensorflow_core/contrib/learn/python/learn/datasets/mnist.py:262: extract_images (from tensorflow.contrib.learn.python.learn.datasets.mnist) is deprecated and will be removed in a future version.\n",
            "Instructions for updating:\n",
            "Please use tf.data to implement this functionality.\n",
            "Extracting /tmp/data/train-images-idx3-ubyte.gz\n",
            "Successfully downloaded train-labels-idx1-ubyte.gz 28881 bytes.\n",
            "WARNING:tensorflow:From /usr/local/lib/python3.6/dist-packages/tensorflow_core/contrib/learn/python/learn/datasets/mnist.py:267: extract_labels (from tensorflow.contrib.learn.python.learn.datasets.mnist) is deprecated and will be removed in a future version.\n",
            "Instructions for updating:\n",
            "Please use tf.data to implement this functionality.\n",
            "Extracting /tmp/data/train-labels-idx1-ubyte.gz\n",
            "WARNING:tensorflow:From /usr/local/lib/python3.6/dist-packages/tensorflow_core/contrib/learn/python/learn/datasets/mnist.py:110: dense_to_one_hot (from tensorflow.contrib.learn.python.learn.datasets.mnist) is deprecated and will be removed in a future version.\n",
            "Instructions for updating:\n",
            "Please use tf.one_hot on tensors.\n",
            "Successfully downloaded t10k-images-idx3-ubyte.gz 1648877 bytes.\n",
            "Extracting /tmp/data/t10k-images-idx3-ubyte.gz\n",
            "Successfully downloaded t10k-labels-idx1-ubyte.gz 4542 bytes.\n",
            "Extracting /tmp/data/t10k-labels-idx1-ubyte.gz\n",
            "WARNING:tensorflow:From /usr/local/lib/python3.6/dist-packages/tensorflow_core/contrib/learn/python/learn/datasets/mnist.py:290: DataSet.__init__ (from tensorflow.contrib.learn.python.learn.datasets.mnist) is deprecated and will be removed in a future version.\n",
            "Instructions for updating:\n",
            "Please use alternatives such as official/mnist/dataset.py from tensorflow/models.\n"
          ],
          "name": "stdout"
        }
      ]
    },
    {
      "cell_type": "code",
      "metadata": {
        "id": "Z-wP9fqwWUOi",
        "colab_type": "code",
        "colab": {}
      },
      "source": [
        "#  Training parameter\n",
        "learning_rate = 0.001\n",
        "num_steps = 15000\n",
        "batch_size = 128\n",
        "display_step = 100\n",
        "\n",
        "# Network Parameter\n",
        "n_hidden_1 = 256\n",
        "n_hidden_2 = 256\n",
        "num_input = 784\n",
        "num_class = 10\n",
        "\n",
        "# tf Graph\n",
        "X = tf.placeholder(tf.float32, [None, 784])\n",
        "Y = tf.placeholder(tf.float32, [None, num_class])"
      ],
      "execution_count": 0,
      "outputs": []
    },
    {
      "cell_type": "code",
      "metadata": {
        "id": "kuRPNEHjWoeE",
        "colab_type": "code",
        "colab": {}
      },
      "source": [
        "weights = {\n",
        "    'h1': tf.Variable(tf.random_normal([num_input, n_hidden_1])),\n",
        "    'h2': tf.Variable(tf.random_normal([n_hidden_1, n_hidden_2])),\n",
        "    'out': tf.Variable(tf.random_normal([n_hidden_2, num_class]))\n",
        "}\n",
        "\n",
        "biases = {\n",
        "    'b1': tf.Variable(tf.random_normal([n_hidden_1])),\n",
        "    'b2': tf.Variable(tf.random_normal([n_hidden_2])),\n",
        "    'out': tf.Variable(tf.random_normal([num_class]))\n",
        "}"
      ],
      "execution_count": 0,
      "outputs": []
    },
    {
      "cell_type": "code",
      "metadata": {
        "id": "-F9NR79NYVuS",
        "colab_type": "code",
        "colab": {}
      },
      "source": [
        "  def neural_net(x):\n",
        "    layer_1 = tf.add(tf.matmul(x, weights['h1']), biases['b1'])\n",
        "    layer_1 = tf.nn.relu(layer_1)\n",
        "    layer_2 = tf.add(tf.matmul(layer_1, weights['h2']), biases['b2'])\n",
        "    layer_2 = tf.nn.relu(layer_2)\n",
        "    out     = tf.add(tf.matmul(layer_2, weights['out']), biases['out'])\n",
        "    return out"
      ],
      "execution_count": 0,
      "outputs": []
    },
    {
      "cell_type": "code",
      "metadata": {
        "id": "Pc0DfZQBZYWJ",
        "colab_type": "code",
        "colab": {}
      },
      "source": [
        "# construct model\n",
        "logits = neural_net(X)\n",
        "y_pre = tf.nn.softmax(logits)\n",
        "\n",
        "loss = tf.reduce_mean(tf.nn.softmax_cross_entropy_with_logits(logits = logits, labels= Y))\n",
        "# define optimizer\n",
        "optimizer = tf.train.AdamOptimizer(learning_rate= learning_rate).minimize(loss)\n",
        "\n",
        "# define metric\n",
        "\n",
        "correct_predictions = tf.equal(tf.arg_max(y_pre, 1), tf.arg_max(Y, 1))\n",
        "accuracy = tf.reduce_mean(tf.cast(correct_predictions, tf.float32))\n",
        "\n",
        "init = tf.global_variables_initializer()"
      ],
      "execution_count": 0,
      "outputs": []
    },
    {
      "cell_type": "code",
      "metadata": {
        "id": "XrJHvt0Fcepf",
        "colab_type": "code",
        "outputId": "a69eae08-913d-4220-c52c-7ff5d480f6a7",
        "colab": {
          "base_uri": "https://localhost:8080/",
          "height": 1000
        }
      },
      "source": [
        "with tf.Session() as sess:\n",
        "  # Run initializer\n",
        "  sess.run(init)\n",
        "  train_loss_his = []\n",
        "  train_acc_his = []\n",
        "  record_step = []\n",
        "  for step in range(1, num_steps + 1):\n",
        "    # get training batch\n",
        "    batch_x , batch_y = mnist.train.next_batch(batch_size)\n",
        "    sess.run(optimizer, feed_dict = {X: batch_x, Y: batch_y})\n",
        "\n",
        "    if step % display_step == 0 or step == 1:\n",
        "      train_loss, train_acc = sess.run([loss, accuracy], feed_dict= {X: batch_x, Y: batch_y})\n",
        "      train_loss_his.append(train_loss)\n",
        "      train_acc_his.append(train_acc)\n",
        "      record_step.append(step)\n",
        "      print(\"step: {}  train_loss: {}  train_acc: {}\".format(step, train_loss, train_acc))\n",
        "\n",
        "  print (\"finish training\")"
      ],
      "execution_count": 0,
      "outputs": [
        {
          "output_type": "stream",
          "text": [
            "step: 1  train_loss: 2079.91357421875  train_acc: 0.09375\n",
            "step: 100  train_loss: 222.30003356933594  train_acc: 0.65625\n",
            "step: 200  train_loss: 117.8718490600586  train_acc: 0.765625\n",
            "step: 300  train_loss: 95.62931823730469  train_acc: 0.8203125\n",
            "step: 400  train_loss: 55.5721549987793  train_acc: 0.8671875\n",
            "step: 500  train_loss: 30.736967086791992  train_acc: 0.8984375\n",
            "step: 600  train_loss: 44.7648811340332  train_acc: 0.8671875\n",
            "step: 700  train_loss: 37.616546630859375  train_acc: 0.8125\n",
            "step: 800  train_loss: 41.096920013427734  train_acc: 0.8828125\n",
            "step: 900  train_loss: 23.2166805267334  train_acc: 0.921875\n",
            "step: 1000  train_loss: 26.235754013061523  train_acc: 0.890625\n",
            "step: 1100  train_loss: 34.82387924194336  train_acc: 0.8671875\n",
            "step: 1200  train_loss: 39.327171325683594  train_acc: 0.8828125\n",
            "step: 1300  train_loss: 17.370058059692383  train_acc: 0.9140625\n",
            "step: 1400  train_loss: 26.645374298095703  train_acc: 0.890625\n",
            "step: 1500  train_loss: 6.218410968780518  train_acc: 0.9609375\n",
            "step: 1600  train_loss: 12.871009826660156  train_acc: 0.9296875\n",
            "step: 1700  train_loss: 20.642934799194336  train_acc: 0.9296875\n",
            "step: 1800  train_loss: 9.676006317138672  train_acc: 0.9453125\n",
            "step: 1900  train_loss: 8.603036880493164  train_acc: 0.9296875\n",
            "step: 2000  train_loss: 16.04781150817871  train_acc: 0.9453125\n",
            "step: 2100  train_loss: 18.809837341308594  train_acc: 0.9296875\n",
            "step: 2200  train_loss: 7.531087875366211  train_acc: 0.96875\n",
            "step: 2300  train_loss: 1.5980089902877808  train_acc: 0.96875\n",
            "step: 2400  train_loss: 3.454887866973877  train_acc: 0.9765625\n",
            "step: 2500  train_loss: 8.71401596069336  train_acc: 0.9453125\n",
            "step: 2600  train_loss: 8.027581214904785  train_acc: 0.96875\n",
            "step: 2700  train_loss: 15.602558135986328  train_acc: 0.9375\n",
            "step: 2800  train_loss: 11.719130516052246  train_acc: 0.9453125\n",
            "step: 2900  train_loss: 8.44968032836914  train_acc: 0.953125\n",
            "step: 3000  train_loss: 5.702554702758789  train_acc: 0.9609375\n",
            "step: 3100  train_loss: 15.057775497436523  train_acc: 0.953125\n",
            "step: 3200  train_loss: 3.4401090145111084  train_acc: 0.96875\n",
            "step: 3300  train_loss: 4.865163803100586  train_acc: 0.984375\n",
            "step: 3400  train_loss: 5.042953014373779  train_acc: 0.9765625\n",
            "step: 3500  train_loss: 16.07469367980957  train_acc: 0.953125\n",
            "step: 3600  train_loss: 1.5080502033233643  train_acc: 0.9609375\n",
            "step: 3700  train_loss: 8.01320743560791  train_acc: 0.9609375\n",
            "step: 3800  train_loss: 3.445606231689453  train_acc: 0.96875\n",
            "step: 3900  train_loss: 2.417433023452759  train_acc: 0.96875\n",
            "step: 4000  train_loss: 4.902350902557373  train_acc: 0.9453125\n",
            "step: 4100  train_loss: 0.7927253842353821  train_acc: 0.984375\n",
            "step: 4200  train_loss: 6.677924830000848e-05  train_acc: 1.0\n",
            "step: 4300  train_loss: 0.2824268341064453  train_acc: 0.9921875\n",
            "step: 4400  train_loss: 0.3539600372314453  train_acc: 0.9921875\n",
            "step: 4500  train_loss: 0.0  train_acc: 1.0\n",
            "step: 4600  train_loss: 5.100630760192871  train_acc: 0.9765625\n",
            "step: 4700  train_loss: 7.7444915771484375  train_acc: 0.9453125\n",
            "step: 4800  train_loss: 3.0582443287130445e-05  train_acc: 1.0\n",
            "step: 4900  train_loss: 1.9720804691314697  train_acc: 0.9765625\n",
            "step: 5000  train_loss: 2.351921796798706  train_acc: 0.9921875\n",
            "step: 5100  train_loss: 0.051784299314022064  train_acc: 0.9921875\n",
            "step: 5200  train_loss: 2.8409063816070557  train_acc: 0.96875\n",
            "step: 5300  train_loss: 2.7332048416137695  train_acc: 0.953125\n",
            "step: 5400  train_loss: 0.5172328948974609  train_acc: 0.9921875\n",
            "step: 5500  train_loss: 0.822471022605896  train_acc: 0.984375\n",
            "step: 5600  train_loss: 0.5916911363601685  train_acc: 0.9921875\n",
            "step: 5700  train_loss: 0.6208610534667969  train_acc: 0.9921875\n",
            "step: 5800  train_loss: 0.7883851528167725  train_acc: 0.984375\n",
            "step: 5900  train_loss: 1.076490879058838  train_acc: 0.984375\n",
            "step: 6000  train_loss: 4.621327877044678  train_acc: 0.984375\n",
            "step: 6100  train_loss: 0.0  train_acc: 1.0\n",
            "step: 6200  train_loss: 0.2210400402545929  train_acc: 0.9921875\n",
            "step: 6300  train_loss: 6.094272613525391  train_acc: 0.984375\n",
            "step: 6400  train_loss: 1.207950208481634e-05  train_acc: 1.0\n",
            "step: 6500  train_loss: 3.073358811889193e-08  train_acc: 1.0\n",
            "step: 6600  train_loss: 4.656611540809763e-09  train_acc: 1.0\n",
            "step: 6700  train_loss: 0.0  train_acc: 1.0\n",
            "step: 6800  train_loss: 5.8837426877289545e-06  train_acc: 1.0\n",
            "step: 6900  train_loss: 0.3503448963165283  train_acc: 0.9921875\n",
            "step: 7000  train_loss: 0.0022303680889308453  train_acc: 1.0\n",
            "step: 7100  train_loss: 0.0002740330237429589  train_acc: 1.0\n",
            "step: 7200  train_loss: 0.5835157632827759  train_acc: 0.9921875\n",
            "step: 7300  train_loss: 0.0  train_acc: 1.0\n",
            "step: 7400  train_loss: 1.3428517604552326e-06  train_acc: 1.0\n",
            "step: 7500  train_loss: 6.306723662419245e-05  train_acc: 1.0\n",
            "step: 7600  train_loss: 1.0231003761291504  train_acc: 0.984375\n",
            "step: 7700  train_loss: 2.4036178588867188  train_acc: 0.9921875\n",
            "step: 7800  train_loss: 0.011855535209178925  train_acc: 0.9921875\n",
            "step: 7900  train_loss: 0.7188327312469482  train_acc: 0.984375\n",
            "step: 8000  train_loss: 0.0435803085565567  train_acc: 0.9921875\n",
            "step: 8100  train_loss: 0.02969835139811039  train_acc: 0.9921875\n",
            "step: 8200  train_loss: 1.6856756701599807e-07  train_acc: 1.0\n",
            "step: 8300  train_loss: 0.33299607038497925  train_acc: 0.984375\n",
            "step: 8400  train_loss: 0.8109822273254395  train_acc: 0.9921875\n",
            "step: 8500  train_loss: 0.0  train_acc: 1.0\n",
            "step: 8600  train_loss: 9.313225191043273e-10  train_acc: 1.0\n",
            "step: 8700  train_loss: 0.0  train_acc: 1.0\n",
            "step: 8800  train_loss: 0.0  train_acc: 1.0\n",
            "step: 8900  train_loss: 0.014860361814498901  train_acc: 0.9921875\n",
            "step: 9000  train_loss: 0.48241281509399414  train_acc: 0.9921875\n",
            "step: 9100  train_loss: 0.0  train_acc: 1.0\n",
            "step: 9200  train_loss: 2.9596249078167602e-05  train_acc: 1.0\n",
            "step: 9300  train_loss: 0.07676834613084793  train_acc: 0.9921875\n",
            "step: 9400  train_loss: 0.0  train_acc: 1.0\n",
            "step: 9500  train_loss: 3.0380200769286603e-05  train_acc: 1.0\n",
            "step: 9600  train_loss: 0.0  train_acc: 1.0\n",
            "step: 9700  train_loss: 0.12045174092054367  train_acc: 0.9921875\n",
            "step: 9800  train_loss: 1.1322357654571533  train_acc: 0.984375\n",
            "step: 9900  train_loss: 0.00238194246776402  train_acc: 1.0\n",
            "step: 10000  train_loss: 0.6476166248321533  train_acc: 0.9921875\n",
            "step: 10100  train_loss: 0.2964744567871094  train_acc: 0.9921875\n",
            "step: 10200  train_loss: 8.806084224488586e-06  train_acc: 1.0\n",
            "step: 10300  train_loss: 0.00040134135633707047  train_acc: 1.0\n",
            "step: 10400  train_loss: 0.25063419342041016  train_acc: 0.9921875\n",
            "step: 10500  train_loss: 0.009281753562390804  train_acc: 0.9921875\n",
            "step: 10600  train_loss: 0.0  train_acc: 1.0\n",
            "step: 10700  train_loss: 9.313225191043273e-10  train_acc: 1.0\n",
            "step: 10800  train_loss: 0.0  train_acc: 1.0\n",
            "step: 10900  train_loss: 1.0560576811258215e-05  train_acc: 1.0\n",
            "step: 11000  train_loss: 0.46299460530281067  train_acc: 0.9921875\n",
            "step: 11100  train_loss: 5.587933671336032e-09  train_acc: 1.0\n",
            "step: 11200  train_loss: 0.0  train_acc: 1.0\n",
            "step: 11300  train_loss: 0.0  train_acc: 1.0\n",
            "step: 11400  train_loss: 0.0  train_acc: 1.0\n",
            "step: 11500  train_loss: 0.3605794906616211  train_acc: 0.9921875\n",
            "step: 11600  train_loss: 0.000815170060377568  train_acc: 1.0\n",
            "step: 11700  train_loss: 0.0  train_acc: 1.0\n",
            "step: 11800  train_loss: 0.21854543685913086  train_acc: 0.9921875\n",
            "step: 11900  train_loss: 0.0  train_acc: 1.0\n",
            "step: 12000  train_loss: 0.0003064876946154982  train_acc: 1.0\n",
            "step: 12100  train_loss: 0.0  train_acc: 1.0\n",
            "step: 12200  train_loss: 3.073358456617825e-08  train_acc: 1.0\n",
            "step: 12300  train_loss: 0.0  train_acc: 1.0\n",
            "step: 12400  train_loss: 0.0  train_acc: 1.0\n",
            "step: 12500  train_loss: 0.4982321262359619  train_acc: 0.9921875\n",
            "step: 12600  train_loss: 0.0  train_acc: 1.0\n",
            "step: 12700  train_loss: 2.5145668658410614e-08  train_acc: 1.0\n",
            "step: 12800  train_loss: 0.0  train_acc: 1.0\n",
            "step: 12900  train_loss: 0.0  train_acc: 1.0\n",
            "step: 13000  train_loss: 0.0  train_acc: 1.0\n",
            "step: 13100  train_loss: 0.0  train_acc: 1.0\n",
            "step: 13200  train_loss: 0.36582231521606445  train_acc: 0.9921875\n",
            "step: 13300  train_loss: 0.3510928153991699  train_acc: 0.9921875\n",
            "step: 13400  train_loss: 0.0  train_acc: 1.0\n",
            "step: 13500  train_loss: 0.0  train_acc: 1.0\n",
            "step: 13600  train_loss: 0.0  train_acc: 1.0\n",
            "step: 13700  train_loss: 0.0  train_acc: 1.0\n",
            "step: 13800  train_loss: 1.2096946875317371e-06  train_acc: 1.0\n",
            "step: 13900  train_loss: 0.0  train_acc: 1.0\n",
            "step: 14000  train_loss: 6.05357328709033e-08  train_acc: 1.0\n",
            "step: 14100  train_loss: 0.0  train_acc: 1.0\n",
            "step: 14200  train_loss: 0.0  train_acc: 1.0\n",
            "step: 14300  train_loss: 0.0  train_acc: 1.0\n",
            "step: 14400  train_loss: 0.14677095413208008  train_acc: 0.9921875\n",
            "step: 14500  train_loss: 4.5735632738796994e-05  train_acc: 1.0\n",
            "step: 14600  train_loss: 0.0  train_acc: 1.0\n",
            "step: 14700  train_loss: 0.0  train_acc: 1.0\n",
            "step: 14800  train_loss: 0.0  train_acc: 1.0\n",
            "step: 14900  train_loss: 0.0005310159176588058  train_acc: 1.0\n",
            "step: 15000  train_loss: 0.0  train_acc: 1.0\n",
            "finish training\n"
          ],
          "name": "stdout"
        }
      ]
    },
    {
      "cell_type": "code",
      "metadata": {
        "id": "lhWW2VOofgl_",
        "colab_type": "code",
        "outputId": "a3310224-0fea-4d8d-c5bf-ee7c87aed292",
        "colab": {
          "base_uri": "https://localhost:8080/",
          "height": 269
        }
      },
      "source": [
        "import matplotlib.pyplot as plt\n",
        "import numpy as np\n",
        "\n",
        "plt.plot(record_step, train_acc_his, label = \"train_acc\")\n",
        "plt.axis([0, np.max(record_step), 0, np.max(train_acc_his)])\n",
        "plt.legend()\n",
        "plt.show()"
      ],
      "execution_count": 0,
      "outputs": [
        {
          "output_type": "display_data",
          "data": {
            "image/png": "[encoded data removed]",
            "text/plain": [
              "<Figure size 432x288 with 1 Axes>"
            ]
          },
          "metadata": {
            "tags": []
          }
        }
      ]
    },
    {
      "cell_type": "code",
      "metadata": {
        "id": "G2trX5mUiEdC",
        "colab_type": "code",
        "outputId": "6cbe7878-cf99-40f8-a3e8-db9686813045",
        "colab": {
          "base_uri": "https://localhost:8080/",
          "height": 265
        }
      },
      "source": [
        "import matplotlib.pyplot as plt\n",
        "import numpy as np\n",
        "\n",
        "plt.plot(record_step, train_loss_his, label = \"train_loss\")\n",
        "plt.axis([0, np.max(record_step), 0, np.max(train_loss_his)])\n",
        "plt.legend()\n",
        "plt.show()"
      ],
      "execution_count": 0,
      "outputs": [
        {
          "output_type": "display_data",
          "data": {
            "image/png": "[encoded data removed]",
            "text/plain": [
              "<Figure size 432x288 with 1 Axes>"
            ]
          },
          "metadata": {
            "tags": []
          }
        }
      ]
    },
    {
      "cell_type": "code",
      "metadata": {
        "id": "wD1umXgZkO-U",
        "colab_type": "code",
        "colab": {}
      },
      "source": [
        ""
      ],
      "execution_count": 0,
      "outputs": []
    }
  ]
}