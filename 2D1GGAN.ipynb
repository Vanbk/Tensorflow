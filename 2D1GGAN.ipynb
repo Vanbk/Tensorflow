{
  "nbformat": 4,
  "nbformat_minor": 0,
  "metadata": {
    "colab": {
      "name": "2D1GGAN.ipynb",
      "provenance": [],
      "collapsed_sections": [],
      "authorship_tag": "ABX9TyOnX8/xtgIxKiN7FFDoy1tb",
      "include_colab_link": true
    },
    "kernelspec": {
      "name": "python3",
      "display_name": "Python 3"
    },
    "accelerator": "GPU"
  },
  "cells": [
    {
      "cell_type": "markdown",
      "metadata": {
        "id": "view-in-github",
        "colab_type": "text"
      },
      "source": [
        "<a href=\"https://colab.research.google.com/github/Vanbk/Tensorflow/blob/master/2D1GGAN.ipynb\" target=\"_parent\"><img src=\"https://colab.research.google.com/assets/colab-badge.svg\" alt=\"Open In Colab\"/></a>"
      ]
    },
    {
      "cell_type": "markdown",
      "metadata": {
        "id": "4u3I_L8qtFNa",
        "colab_type": "text"
      },
      "source": [
        ""
      ]
    },
    {
      "cell_type": "code",
      "metadata": {
        "id": "BCbEjVHxrOqB",
        "colab_type": "code",
        "colab": {}
      },
      "source": [
        "from __future__ import division, print_function, absolute_import\n",
        "\n",
        "import matplotlib.pyplot as plt\n",
        "import numpy as np\n",
        "import tensorflow as tf"
      ],
      "execution_count": 0,
      "outputs": []
    },
    {
      "cell_type": "code",
      "metadata": {
        "id": "i5dBK2-krPgM",
        "colab_type": "code",
        "outputId": "85ff0302-cee7-4da4-ad11-e65f4295218e",
        "colab": {
          "base_uri": "https://localhost:8080/",
          "height": 85
        }
      },
      "source": [
        "# Import MNIST data\n",
        "from tensorflow.examples.tutorials.mnist import input_data\n",
        "mnist = input_data.read_data_sets(\"/tmp/data/\", one_hot=True)"
      ],
      "execution_count": 0,
      "outputs": [
        {
          "output_type": "stream",
          "text": [
            "Extracting /tmp/data/train-images-idx3-ubyte.gz\n",
            "Extracting /tmp/data/train-labels-idx1-ubyte.gz\n",
            "Extracting /tmp/data/t10k-images-idx3-ubyte.gz\n",
            "Extracting /tmp/data/t10k-labels-idx1-ubyte.gz\n"
          ],
          "name": "stdout"
        }
      ]
    },
    {
      "cell_type": "code",
      "metadata": {
        "id": "XZnuWwlSsGQA",
        "colab_type": "code",
        "colab": {}
      },
      "source": [
        "# training params\n",
        "num_steps = 50000\n",
        "batch_size = 128\n",
        "learning_rate = 0.0002\n",
        "\n",
        "# Network params\n",
        "image_dim = 784\n",
        "gen_hidden_dim = 256\n",
        "disc_hidden_dim = 256\n",
        "noise_dim = 100 # noise data points\n",
        "\n",
        "# A custom initialization (see Xavier Glorot init)\n",
        "def glorot_init(shape):\n",
        "    return tf.random_normal(shape=shape, stddev=1. / tf.sqrt(shape[0] / 2.))"
      ],
      "execution_count": 0,
      "outputs": []
    },
    {
      "cell_type": "code",
      "metadata": {
        "id": "DegMZ17Uz9eH",
        "colab_type": "code",
        "colab": {}
      },
      "source": [
        "# Store layers weight & bias\n",
        "weights = {\n",
        "    'gen_hidden1': tf.Variable(glorot_init([noise_dim, gen_hidden_dim])),\n",
        "    'gen_out': tf.Variable(glorot_init([gen_hidden_dim, image_dim])),\n",
        "    'disc_hidden1': tf.Variable(glorot_init([image_dim, disc_hidden_dim])),\n",
        "    'disc_out': tf.Variable(glorot_init([disc_hidden_dim, 1])),\n",
        "    'disc1_hidden1': tf.Variable(glorot_init([image_dim, disc_hidden_dim])),\n",
        "    'disc1_out': tf.Variable(glorot_init([disc_hidden_dim, 1])),\n",
        "}\n",
        "biases = {\n",
        "    'gen_hidden1': tf.Variable(tf.zeros([gen_hidden_dim])),\n",
        "    'gen_out': tf.Variable(tf.zeros([image_dim])),\n",
        "    'disc_hidden1': tf.Variable(tf.zeros([disc_hidden_dim])),\n",
        "    'disc_out': tf.Variable(tf.zeros([1])),\n",
        "    'disc1_hidden1': tf.Variable(tf.zeros([disc_hidden_dim])),\n",
        "    'disc1_out': tf.Variable(tf.zeros([1])),\n",
        "}"
      ],
      "execution_count": 0,
      "outputs": []
    },
    {
      "cell_type": "code",
      "metadata": {
        "id": "bGR3QhaK0Mbi",
        "colab_type": "code",
        "colab": {}
      },
      "source": [
        "# Generator\n",
        "def generator(x):\n",
        "    hidden_layer = tf.matmul(x, weights['gen_hidden1'])\n",
        "    hidden_layer = tf.add(hidden_layer, biases['gen_hidden1'])\n",
        "    hidden_layer = tf.nn.relu(hidden_layer)\n",
        "    out_layer = tf.matmul(hidden_layer, weights['gen_out'])\n",
        "    out_layer = tf.add(out_layer, biases['gen_out'])\n",
        "    out_layer = tf.nn.sigmoid(out_layer)\n",
        "    return out_layer\n",
        "\n",
        "\n",
        "# Discriminator\n",
        "def discriminator(x):\n",
        "    hidden_layer = tf.matmul(x, weights['disc_hidden1'])\n",
        "    hidden_layer = tf.add(hidden_layer, biases['disc_hidden1'])\n",
        "    hidden_layer = tf.nn.relu(hidden_layer)\n",
        "    out_layer = tf.matmul(hidden_layer, weights['disc_out'])\n",
        "    out_layer = tf.add(out_layer, biases['disc_out'])\n",
        "    out_layer = tf.nn.sigmoid(out_layer)\n",
        "    return out_layer\n",
        "\n",
        "\n",
        "# Discriminator\n",
        "def discriminator1(x):\n",
        "    hidden_layer = tf.matmul(x, weights['disc1_hidden1'])\n",
        "    hidden_layer = tf.add(hidden_layer, biases['disc1_hidden1'])\n",
        "    hidden_layer = tf.nn.relu(hidden_layer)\n",
        "    out_layer = tf.matmul(hidden_layer, weights['disc1_out'])\n",
        "    out_layer = tf.add(out_layer, biases['disc1_out'])\n",
        "    out_layer = tf.nn.sigmoid(out_layer)\n",
        "    return out_layer\n",
        "\n",
        "\n",
        "# Build Networks\n",
        "# Network Inputs\n",
        "gen_input = tf.placeholder(tf.float32, shape=[None, noise_dim], name='input_noise')\n",
        "disc_input = tf.placeholder(tf.float32, shape=[None, image_dim], name='disc_input')\n",
        "\n",
        "# Build Generator Network\n",
        "gen_sample = generator(gen_input)\n",
        "\n",
        "# Build 2 Discriminator Networks (one from noise input, one from generated samples)\n",
        "disc_real = discriminator(disc_input)\n",
        "disc_fake = discriminator(gen_sample)\n",
        "\n",
        "disc1_real = discriminator1(disc_input)\n",
        "disc1_fake = discriminator1(gen_sample)\n",
        "\n",
        "# Build Loss\n",
        "gen_loss  = -tf.reduce_mean(tf.log(disc_fake) + tf.log(disc1_fake))\n",
        "disc_loss = -tf.reduce_mean(tf.log(disc_real) + tf.log(1. - disc_fake))\n",
        "\n",
        "disc1_loss = -tf.reduce_mean(tf.log(disc1_real) + tf.log(1. - disc1_fake))\n",
        "\n",
        "# Build Optimizers\n",
        "optimizer_gen = tf.train.AdamOptimizer(learning_rate=learning_rate)\n",
        "optimizer_disc = tf.train.AdamOptimizer(learning_rate=learning_rate)\n",
        "optimizer_disc1 = tf.train.AdamOptimizer(learning_rate=learning_rate/2.0)\n",
        "# Training Variables for each optimizer\n",
        "# By default in TensorFlow, all variables are updated by each optimizer, so we\n",
        "# need to precise for each one of them the specific variables to update.\n",
        "# Generator Network Variables\n",
        "gen_vars = [weights['gen_hidden1'], weights['gen_out'],\n",
        "            biases['gen_hidden1'], biases['gen_out']]\n",
        "# Discriminator Network Variables\n",
        "disc_vars = [weights['disc_hidden1'], weights['disc_out'],\n",
        "            biases['disc_hidden1'], biases['disc_out']]\n",
        "\n",
        "disc1_vars = [weights['disc1_hidden1'], weights['disc1_out'],\n",
        "            biases['disc1_hidden1'], biases['disc1_out']]\n",
        "\n",
        "# Create training operations\n",
        "train_gen = optimizer_gen.minimize(gen_loss, var_list=gen_vars)\n",
        "train_disc = optimizer_disc.minimize(disc_loss, var_list=disc_vars)\n",
        "train_disc1 = optimizer_disc1.minimize(disc1_loss, var_list=disc1_vars)\n",
        "# Initialize the variables (i.e. assign their default value)\n",
        "init = tf.global_variables_initializer()"
      ],
      "execution_count": 0,
      "outputs": []
    },
    {
      "cell_type": "code",
      "metadata": {
        "id": "bNWsRFNf0Uf8",
        "colab_type": "code",
        "outputId": "d6f51ad8-03ea-4802-c60f-072d054bbd7b",
        "colab": {
          "base_uri": "https://localhost:8080/",
          "height": 884
        }
      },
      "source": [
        "# Start Training\n",
        "# Start a new TF session\n",
        "sess = tf.Session()\n",
        "\n",
        "# Run the initializer\n",
        "sess.run(init)\n",
        "\n",
        "# Training\n",
        "for i in range(1, num_steps+1):\n",
        "    # Prepare Data\n",
        "    # Get the next batch of MNIST data (only images are needed, not labels)\n",
        "    batch_x, _ = mnist.train.next_batch(batch_size)\n",
        "    # Generate noise to feed to the generator\n",
        "    z = np.random.uniform(-1., 1., size=[batch_size, noise_dim])\n",
        "\n",
        "    # Train\n",
        "    feed_dict = {disc_input: batch_x, gen_input: z}\n",
        "    _, _, _,gl, dl,dl1 = sess.run([train_gen, train_disc, train_disc1, gen_loss, disc_loss, disc1_loss],\n",
        "                            feed_dict=feed_dict)\n",
        "    if i % 1000 == 0 or i == 1:\n",
        "        print('Step %i: Generator Loss: %f, Discriminator Loss: %f, Dis2 Loss: %f' % (i, gl, dl, dl1))"
      ],
      "execution_count": 0,
      "outputs": [
        {
          "output_type": "stream",
          "text": [
            "Step 1: Generator Loss: 1.238258, Discriminator Loss: 1.607805, Dis2 Loss: 1.343025\n",
            "Step 1000: Generator Loss: 5.480768, Discriminator Loss: 0.076425, Dis2 Loss: 0.284239\n",
            "Step 2000: Generator Loss: 7.974878, Discriminator Loss: 0.016501, Dis2 Loss: 0.097803\n",
            "Step 3000: Generator Loss: 9.102035, Discriminator Loss: 0.013703, Dis2 Loss: 0.081299\n",
            "Step 4000: Generator Loss: 6.767969, Discriminator Loss: 0.061506, Dis2 Loss: 0.162739\n",
            "Step 5000: Generator Loss: 6.697447, Discriminator Loss: 0.125572, Dis2 Loss: 0.308254\n",
            "Step 6000: Generator Loss: 6.352036, Discriminator Loss: 0.124414, Dis2 Loss: 0.306666\n",
            "Step 7000: Generator Loss: 6.538425, Discriminator Loss: 0.115728, Dis2 Loss: 0.273679\n",
            "Step 8000: Generator Loss: 6.692393, Discriminator Loss: 0.119623, Dis2 Loss: 0.341221\n",
            "Step 9000: Generator Loss: 6.112867, Discriminator Loss: 0.278452, Dis2 Loss: 0.474000\n",
            "Step 10000: Generator Loss: 5.981497, Discriminator Loss: 0.190740, Dis2 Loss: 0.342385\n",
            "Step 11000: Generator Loss: 5.995409, Discriminator Loss: 0.260701, Dis2 Loss: 0.445345\n",
            "Step 12000: Generator Loss: 5.974333, Discriminator Loss: 0.195199, Dis2 Loss: 0.452855\n",
            "Step 13000: Generator Loss: 6.124621, Discriminator Loss: 0.180752, Dis2 Loss: 0.427381\n",
            "Step 14000: Generator Loss: 7.448977, Discriminator Loss: 0.257103, Dis2 Loss: 0.390999\n",
            "Step 15000: Generator Loss: 5.754017, Discriminator Loss: 0.297937, Dis2 Loss: 0.509060\n",
            "Step 16000: Generator Loss: 6.782684, Discriminator Loss: 0.160231, Dis2 Loss: 0.295129\n",
            "Step 17000: Generator Loss: 6.081557, Discriminator Loss: 0.204124, Dis2 Loss: 0.393119\n",
            "Step 18000: Generator Loss: 7.694040, Discriminator Loss: 0.193360, Dis2 Loss: 0.290847\n",
            "Step 19000: Generator Loss: 6.572618, Discriminator Loss: 0.176250, Dis2 Loss: 0.382869\n",
            "Step 20000: Generator Loss: 7.779465, Discriminator Loss: 0.062535, Dis2 Loss: 0.256051\n",
            "Step 21000: Generator Loss: 6.786106, Discriminator Loss: 0.220563, Dis2 Loss: 0.331062\n",
            "Step 22000: Generator Loss: 5.953026, Discriminator Loss: 0.271884, Dis2 Loss: 0.344747\n",
            "Step 23000: Generator Loss: 6.396524, Discriminator Loss: 0.329650, Dis2 Loss: 0.397731\n",
            "Step 24000: Generator Loss: 6.135448, Discriminator Loss: 0.273416, Dis2 Loss: 0.344213\n",
            "Step 25000: Generator Loss: 6.059526, Discriminator Loss: 0.296746, Dis2 Loss: 0.377005\n",
            "Step 26000: Generator Loss: 6.209917, Discriminator Loss: 0.310958, Dis2 Loss: 0.395003\n",
            "Step 27000: Generator Loss: 6.368705, Discriminator Loss: 0.213914, Dis2 Loss: 0.309890\n",
            "Step 28000: Generator Loss: 6.221178, Discriminator Loss: 0.302287, Dis2 Loss: 0.373054\n",
            "Step 29000: Generator Loss: 5.752712, Discriminator Loss: 0.333627, Dis2 Loss: 0.384490\n",
            "Step 30000: Generator Loss: 5.400265, Discriminator Loss: 0.434551, Dis2 Loss: 0.534162\n",
            "Step 31000: Generator Loss: 5.474100, Discriminator Loss: 0.439150, Dis2 Loss: 0.455928\n",
            "Step 32000: Generator Loss: 5.524684, Discriminator Loss: 0.471691, Dis2 Loss: 0.484889\n",
            "Step 33000: Generator Loss: 5.620419, Discriminator Loss: 0.372520, Dis2 Loss: 0.518838\n",
            "Step 34000: Generator Loss: 5.864910, Discriminator Loss: 0.439077, Dis2 Loss: 0.509793\n",
            "Step 35000: Generator Loss: 5.913734, Discriminator Loss: 0.352494, Dis2 Loss: 0.513244\n",
            "Step 36000: Generator Loss: 4.992311, Discriminator Loss: 0.326007, Dis2 Loss: 0.445333\n",
            "Step 37000: Generator Loss: 5.624631, Discriminator Loss: 0.394466, Dis2 Loss: 0.411628\n",
            "Step 38000: Generator Loss: 5.206659, Discriminator Loss: 0.311091, Dis2 Loss: 0.474057\n",
            "Step 39000: Generator Loss: 4.975546, Discriminator Loss: 0.406632, Dis2 Loss: 0.436284\n",
            "Step 40000: Generator Loss: 5.086487, Discriminator Loss: 0.413915, Dis2 Loss: 0.547753\n",
            "Step 41000: Generator Loss: 4.955873, Discriminator Loss: 0.375043, Dis2 Loss: 0.451556\n",
            "Step 42000: Generator Loss: 5.213672, Discriminator Loss: 0.457652, Dis2 Loss: 0.532775\n",
            "Step 43000: Generator Loss: 5.668527, Discriminator Loss: 0.347531, Dis2 Loss: 0.429933\n",
            "Step 44000: Generator Loss: 4.800746, Discriminator Loss: 0.517812, Dis2 Loss: 0.643657\n",
            "Step 45000: Generator Loss: 4.970596, Discriminator Loss: 0.454419, Dis2 Loss: 0.493915\n",
            "Step 46000: Generator Loss: 5.257860, Discriminator Loss: 0.357877, Dis2 Loss: 0.452833\n",
            "Step 47000: Generator Loss: 5.555405, Discriminator Loss: 0.440291, Dis2 Loss: 0.620334\n",
            "Step 48000: Generator Loss: 5.137644, Discriminator Loss: 0.472050, Dis2 Loss: 0.583354\n",
            "Step 49000: Generator Loss: 4.680454, Discriminator Loss: 0.548434, Dis2 Loss: 0.572310\n",
            "Step 50000: Generator Loss: 5.217669, Discriminator Loss: 0.391157, Dis2 Loss: 0.459420\n"
          ],
          "name": "stdout"
        }
      ]
    },
    {
      "cell_type": "code",
      "metadata": {
        "id": "NiC9F5aP0Zrp",
        "colab_type": "code",
        "outputId": "949debf9-952b-4502-a6cd-379624795d80",
        "colab": {
          "base_uri": "https://localhost:8080/",
          "height": 377
        }
      },
      "source": [
        "# Testing\n",
        "# Generate images from noise, using the generator network.\n",
        "n = 6\n",
        "canvas = np.empty((28 * n, 28 * n))\n",
        "for i in range(n):\n",
        "    # Noise input.\n",
        "    z = np.random.uniform(-1., 1., size=[n, noise_dim])\n",
        "    # Generate image from noise.\n",
        "    g = sess.run(gen_sample, feed_dict={gen_input: z})\n",
        "    # Reverse colours for better display\n",
        "    g = -1 * (g - 1)\n",
        "    for j in range(n):\n",
        "        # Draw the generated digits\n",
        "        canvas[i * 28:(i + 1) * 28, j * 28:(j + 1) * 28] = g[j].reshape([28, 28])\n",
        "\n",
        "plt.figure(figsize=(n, n))\n",
        "plt.imshow(canvas, origin=\"upper\", cmap=\"gray\")\n",
        "plt.show()"
      ],
      "execution_count": 0,
      "outputs": [
        {
          "output_type": "display_data",
          "data": {
            "image/png": "[encoded data removed]",
            "text/plain": [
              "<Figure size 432x432 with 1 Axes>"
            ]
          },
          "metadata": {
            "tags": []
          }
        }
      ]
    },
    {
      "cell_type": "code",
      "metadata": {
        "id": "QqD2Pzmn4U7t",
        "colab_type": "code",
        "colab": {}
      },
      "source": [
        ""
      ],
      "execution_count": 0,
      "outputs": []
    }
  ]
}