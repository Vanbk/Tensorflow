{
  "nbformat": 4,
  "nbformat_minor": 0,
  "metadata": {
    "kernelspec": {
      "display_name": "Python 3",
      "language": "python",
      "name": "python3"
    },
    "language_info": {
      "codemirror_mode": {
        "name": "ipython",
        "version": 3
      },
      "file_extension": ".py",
      "mimetype": "text/x-python",
      "name": "python",
      "nbconvert_exporter": "python",
      "pygments_lexer": "ipython3",
      "version": "3.7.4"
    },
    "colab": {
      "name": "Sofmax_Classification.ipynb",
      "provenance": [],
      "include_colab_link": true
    }
  },
  "cells": [
    {
      "cell_type": "markdown",
      "metadata": {
        "id": "view-in-github",
        "colab_type": "text"
      },
      "source": [
        "<a href=\"https://colab.research.google.com/github/Vanbk/Tensorflow/blob/master/Sofmax_Classification.ipynb\" target=\"_parent\"><img src=\"https://colab.research.google.com/assets/colab-badge.svg\" alt=\"Open In Colab\"/></a>"
      ]
    },
    {
      "cell_type": "code",
      "metadata": {
        "id": "DdreTlh5Bk12",
        "colab_type": "code",
        "colab": {}
      },
      "source": [
        "import warnings\n",
        "warnings.filterwarnings('ignore')"
      ],
      "execution_count": 0,
      "outputs": []
    },
    {
      "cell_type": "code",
      "metadata": {
        "id": "qlZMySVSBk2D",
        "colab_type": "code",
        "colab": {}
      },
      "source": [
        "import os \n",
        "import numpy as np\n",
        "import tensorflow as tf"
      ],
      "execution_count": 0,
      "outputs": []
    },
    {
      "cell_type": "code",
      "metadata": {
        "id": "TLabLYa0Bk2K",
        "colab_type": "code",
        "colab": {},
        "outputId": "82e4923e-c528-4255-b92c-f244bc85a84e"
      },
      "source": [
        "from tensorflow.examples.tutorials.mnist import input_data\n",
        "\n",
        "mnist = input_data.read_data_sets('data/mnist', one_hot=True)"
      ],
      "execution_count": 0,
      "outputs": [
        {
          "output_type": "stream",
          "text": [
            "WARNING:tensorflow:From <ipython-input-3-34897b4fe06c>:3: read_data_sets (from tensorflow.contrib.learn.python.learn.datasets.mnist) is deprecated and will be removed in a future version.\n",
            "Instructions for updating:\n",
            "Please use alternatives such as official/mnist/dataset.py from tensorflow/models.\n",
            "WARNING:tensorflow:From /home/vavan/anaconda3/lib/python3.7/site-packages/tensorflow_core/contrib/learn/python/learn/datasets/mnist.py:260: maybe_download (from tensorflow.contrib.learn.python.learn.datasets.base) is deprecated and will be removed in a future version.\n",
            "Instructions for updating:\n",
            "Please write your own downloading logic.\n",
            "WARNING:tensorflow:From /home/vavan/anaconda3/lib/python3.7/site-packages/tensorflow_core/contrib/learn/python/learn/datasets/mnist.py:262: extract_images (from tensorflow.contrib.learn.python.learn.datasets.mnist) is deprecated and will be removed in a future version.\n",
            "Instructions for updating:\n",
            "Please use tf.data to implement this functionality.\n",
            "Extracting data/mnist/train-images-idx3-ubyte.gz\n",
            "WARNING:tensorflow:From /home/vavan/anaconda3/lib/python3.7/site-packages/tensorflow_core/contrib/learn/python/learn/datasets/mnist.py:267: extract_labels (from tensorflow.contrib.learn.python.learn.datasets.mnist) is deprecated and will be removed in a future version.\n",
            "Instructions for updating:\n",
            "Please use tf.data to implement this functionality.\n",
            "Extracting data/mnist/train-labels-idx1-ubyte.gz\n",
            "WARNING:tensorflow:From /home/vavan/anaconda3/lib/python3.7/site-packages/tensorflow_core/contrib/learn/python/learn/datasets/mnist.py:110: dense_to_one_hot (from tensorflow.contrib.learn.python.learn.datasets.mnist) is deprecated and will be removed in a future version.\n",
            "Instructions for updating:\n",
            "Please use tf.one_hot on tensors.\n",
            "Extracting data/mnist/t10k-images-idx3-ubyte.gz\n",
            "Extracting data/mnist/t10k-labels-idx1-ubyte.gz\n",
            "WARNING:tensorflow:From /home/vavan/anaconda3/lib/python3.7/site-packages/tensorflow_core/contrib/learn/python/learn/datasets/mnist.py:290: DataSet.__init__ (from tensorflow.contrib.learn.python.learn.datasets.mnist) is deprecated and will be removed in a future version.\n",
            "Instructions for updating:\n",
            "Please use alternatives such as official/mnist/dataset.py from tensorflow/models.\n"
          ],
          "name": "stdout"
        }
      ]
    },
    {
      "cell_type": "code",
      "metadata": {
        "id": "jKyMr3EXBk2S",
        "colab_type": "code",
        "colab": {}
      },
      "source": [
        "x_train = mnist.train.images\n",
        "x_test  = mnist.test.images\n",
        "x_val   = mnist.validation.images\n",
        "\n",
        "y_train = mnist.train.labels\n",
        "y_test  = mnist.test.labels\n",
        "y_val   = mnist.validation.labels"
      ],
      "execution_count": 0,
      "outputs": []
    },
    {
      "cell_type": "code",
      "metadata": {
        "id": "Yy4GZs96Bk2b",
        "colab_type": "code",
        "colab": {},
        "outputId": "1fa87abd-09c6-47f2-9137-9f49f28f819c"
      },
      "source": [
        "print (x_train.shape)\n",
        "print (x_train[0].shape)"
      ],
      "execution_count": 0,
      "outputs": [
        {
          "output_type": "stream",
          "text": [
            "(55000, 784)\n",
            "(784,)\n"
          ],
          "name": "stdout"
        }
      ]
    },
    {
      "cell_type": "code",
      "metadata": {
        "id": "4ibECRo-Bk2g",
        "colab_type": "code",
        "colab": {}
      },
      "source": [
        "x = tf.placeholder(tf.float32, [None, 784])\n",
        "y = tf.placeholder(tf.float32, [None, 10])\n",
        "\n",
        "w = tf.Variable(tf.zeros([784, 10]))\n",
        "b = tf.Variable(tf.zeros([10]))"
      ],
      "execution_count": 0,
      "outputs": []
    },
    {
      "cell_type": "code",
      "metadata": {
        "id": "T5PPio0LBk2p",
        "colab_type": "code",
        "colab": {}
      },
      "source": [
        "learning_rate = 0.01\n",
        "batch_size = 256\n",
        "epochs = 100"
      ],
      "execution_count": 0,
      "outputs": []
    },
    {
      "cell_type": "code",
      "metadata": {
        "id": "wgV67_8bBk2w",
        "colab_type": "code",
        "colab": {}
      },
      "source": [
        "logits = tf.matmul(x, w) + b\n",
        "y_pre = tf.nn.softmax(logits)"
      ],
      "execution_count": 0,
      "outputs": []
    },
    {
      "cell_type": "code",
      "metadata": {
        "id": "Whj72oBgBk21",
        "colab_type": "code",
        "colab": {}
      },
      "source": [
        "entropy = tf.nn.softmax_cross_entropy_with_logits(logits = logits, labels=y)\n",
        "\n",
        "loss = tf.reduce_mean(entropy)\n",
        "\n",
        "optimizer = tf.train.GradientDescentOptimizer(learning_rate = learning_rate).minimize(loss)"
      ],
      "execution_count": 0,
      "outputs": []
    },
    {
      "cell_type": "code",
      "metadata": {
        "id": "ZCDRAvniBk25",
        "colab_type": "code",
        "colab": {}
      },
      "source": [
        "init = tf.global_variables_initializer()\n",
        "sess = tf.Session()\n",
        "sess.run(init)"
      ],
      "execution_count": 0,
      "outputs": []
    },
    {
      "cell_type": "code",
      "metadata": {
        "id": "JB7mNn1NBk3E",
        "colab_type": "code",
        "colab": {},
        "outputId": "06f6dfd9-ace7-4f82-8893-8cceaf77b712"
      },
      "source": [
        "# Training\n",
        "\n",
        "nb_batch = x_train.shape[0]//batch_size\n",
        "train_loss_his = []\n",
        "val_loss_his = []\n",
        "\n",
        "for i in range(epochs):\n",
        "    train_average_loss = 0\n",
        "    val_average_loss = 0\n",
        "    for _ in range(nb_batch):\n",
        "        x_batch, y_batch = mnist.train.next_batch(batch_size = batch_size)\n",
        "        _, batch_loss = sess.run([optimizer, loss], feed_dict={x: x_batch, y: y_batch})\n",
        "        train_average_loss += batch_loss/nb_batch\n",
        "        val_loss = sess.run(loss, feed_dict={x:x_val, y: y_val})\n",
        "        val_average_loss += val_loss/nb_batch\n",
        "        \n",
        "    train_loss_his.append(train_average_loss)\n",
        "    val_loss_his.append(val_average_loss)\n",
        "    if i%10 == 0:\n",
        "        print (\"Epoch {}, val_loss = {}, train_loss = {}\".format(i, val_average_loss, train_average_loss))"
      ],
      "execution_count": 0,
      "outputs": [
        {
          "output_type": "stream",
          "text": [
            "Epoch 0, val_loss = 1.5793911408041117, train_loss = 1.593074152402788\n",
            "Epoch 10, val_loss = 0.45548768397246536, train_loss = 0.4750163470194716\n",
            "Epoch 20, val_loss = 0.38464520955197146, train_loss = 0.40801941401490543\n",
            "Epoch 30, val_loss = 0.35445019783817744, train_loss = 0.3746506666468683\n",
            "Epoch 40, val_loss = 0.3368335107219556, train_loss = 0.35609025696170676\n",
            "Epoch 50, val_loss = 0.3249848585262478, train_loss = 0.34665387980291806\n",
            "Epoch 60, val_loss = 0.31643483516211834, train_loss = 0.3336721546599796\n",
            "Epoch 70, val_loss = 0.3098445370375555, train_loss = 0.32736883187126914\n",
            "Epoch 80, val_loss = 0.30457152927590325, train_loss = 0.322985229717794\n",
            "Epoch 90, val_loss = 0.30028392750526123, train_loss = 0.3201509257343327\n"
          ],
          "name": "stdout"
        }
      ]
    },
    {
      "cell_type": "code",
      "metadata": {
        "id": "OYbNvm1jBk3J",
        "colab_type": "code",
        "colab": {},
        "outputId": "03ba9a83-ce2a-45eb-e6c6-4c0e8bf9b880"
      },
      "source": [
        "import matplotlib.pyplot as plt\n",
        "\n",
        "plt.plot(range(epochs), train_loss_his, label = \"train_loss\")\n",
        "plt.plot(range(epochs), val_loss_his, label = \"val_loss\")\n",
        "\n",
        "plt.axis([0, epochs, 0 , max(np.max(train_loss_his), np.max(train_loss_his))])\n",
        "\n",
        "plt.legend()\n",
        "\n",
        "plt.show()"
      ],
      "execution_count": 0,
      "outputs": [
        {
          "output_type": "display_data",
          "data": {
            "image/png": "[encoded data removed]",
            "text/plain": [
              "<Figure size 432x288 with 1 Axes>"
            ]
          },
          "metadata": {
            "tags": [],
            "needs_background": "light"
          }
        }
      ]
    },
    {
      "cell_type": "code",
      "metadata": {
        "id": "qTjfAULbBk3Q",
        "colab_type": "code",
        "colab": {}
      },
      "source": [
        ""
      ],
      "execution_count": 0,
      "outputs": []
    }
  ]
}